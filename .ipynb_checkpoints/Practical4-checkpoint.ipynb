{
 "cells": [
  {
   "cell_type": "markdown",
   "id": "a0aba5ae",
   "metadata": {},
   "source": [
    "4. Write a multiple regression program for predicting CO2 emission level when Volume \n",
    "1300 of Car is and Engine weight is 3300Kg. Refer Car data file. "
   ]
  },
  {
   "cell_type": "code",
   "execution_count": 1,
   "id": "ac7d0f92",
   "metadata": {},
   "outputs": [],
   "source": [
    "import pandas as pd\n",
    "import numpy as np\n",
    "from sklearn.linear_model import LinearRegression"
   ]
  },
  {
   "cell_type": "code",
   "execution_count": 2,
   "id": "e492b2be",
   "metadata": {},
   "outputs": [],
   "source": [
    "df = pd.read_excel('Car_data.xlsx')"
   ]
  },
  {
   "cell_type": "code",
   "execution_count": 3,
   "id": "cb021dfc",
   "metadata": {},
   "outputs": [],
   "source": [
    "X = df[['Volume', 'Weight']]\n",
    "y = df['CO2']"
   ]
  },
  {
   "cell_type": "code",
   "execution_count": 4,
   "id": "6e132736",
   "metadata": {},
   "outputs": [],
   "source": [
    "linear_regression = LinearRegression()"
   ]
  },
  {
   "cell_type": "code",
   "execution_count": 5,
   "id": "af7e2ee1",
   "metadata": {},
   "outputs": [
    {
     "data": {
      "text/plain": [
       "LinearRegression()"
      ]
     },
     "execution_count": 5,
     "metadata": {},
     "output_type": "execute_result"
    }
   ],
   "source": [
    "linear_regression.fit(X, y)"
   ]
  },
  {
   "cell_type": "code",
   "execution_count": 6,
   "id": "697cb03e",
   "metadata": {},
   "outputs": [],
   "source": [
    "new_volume = 1300\n",
    "new_engine_weight = 3300"
   ]
  },
  {
   "cell_type": "code",
   "execution_count": 7,
   "id": "292de7a5",
   "metadata": {},
   "outputs": [],
   "source": [
    "new_input_data = np.array([[new_volume, new_engine_weight]])"
   ]
  },
  {
   "cell_type": "code",
   "execution_count": 8,
   "id": "60874991",
   "metadata": {},
   "outputs": [
    {
     "name": "stderr",
     "output_type": "stream",
     "text": [
      "C:\\Users\\LENOVO\\Anaconda3\\lib\\site-packages\\sklearn\\base.py:450: UserWarning: X does not have valid feature names, but LinearRegression was fitted with feature names\n",
      "  warnings.warn(\n"
     ]
    }
   ],
   "source": [
    "predicted_co2_emission_level = linear_regression.predict(new_input_data)"
   ]
  },
  {
   "cell_type": "code",
   "execution_count": 9,
   "id": "2731b3f5",
   "metadata": {},
   "outputs": [
    {
     "name": "stdout",
     "output_type": "stream",
     "text": [
      "Predicted CO2 emission level: [114.75968007]\n"
     ]
    }
   ],
   "source": [
    "print('Predicted CO2 emission level:', predicted_co2_emission_level)"
   ]
  },
  {
   "cell_type": "code",
   "execution_count": null,
   "id": "b44b35d7",
   "metadata": {},
   "outputs": [],
   "source": []
  }
 ],
 "metadata": {
  "kernelspec": {
   "display_name": "Python 3 (ipykernel)",
   "language": "python",
   "name": "python3"
  },
  "language_info": {
   "codemirror_mode": {
    "name": "ipython",
    "version": 3
   },
   "file_extension": ".py",
   "mimetype": "text/x-python",
   "name": "python",
   "nbconvert_exporter": "python",
   "pygments_lexer": "ipython3",
   "version": "3.9.12"
  }
 },
 "nbformat": 4,
 "nbformat_minor": 5
}
