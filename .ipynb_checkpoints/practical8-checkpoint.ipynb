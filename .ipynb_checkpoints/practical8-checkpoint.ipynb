{
 "cells": [
  {
   "cell_type": "markdown",
   "id": "a24572a7",
   "metadata": {},
   "source": [
    "8. Write a program for K means clustering model based on countries Longitude and \n",
    "Latitude data set 2\n"
   ]
  },
  {
   "cell_type": "code",
   "execution_count": 1,
   "id": "920bd10d",
   "metadata": {},
   "outputs": [],
   "source": [
    "import pandas as pd\n",
    "from sklearn.cluster import KMeans"
   ]
  },
  {
   "cell_type": "code",
   "execution_count": 3,
   "id": "9132aa05",
   "metadata": {},
   "outputs": [],
   "source": [
    "df = pd.read_excel('Countries_dataset2.xlsx')"
   ]
  },
  {
   "cell_type": "code",
   "execution_count": 5,
   "id": "3d55d828",
   "metadata": {},
   "outputs": [],
   "source": [
    "X = df[['Longitude', 'Latitude']]"
   ]
  },
  {
   "cell_type": "code",
   "execution_count": 6,
   "id": "3b95598d",
   "metadata": {},
   "outputs": [],
   "source": [
    "kmeans = KMeans(n_clusters=4)"
   ]
  },
  {
   "cell_type": "code",
   "execution_count": 7,
   "id": "74a15aa3",
   "metadata": {},
   "outputs": [
    {
     "data": {
      "text/plain": [
       "KMeans(n_clusters=4)"
      ]
     },
     "execution_count": 7,
     "metadata": {},
     "output_type": "execute_result"
    }
   ],
   "source": [
    "kmeans.fit(X)"
   ]
  },
  {
   "cell_type": "code",
   "execution_count": 8,
   "id": "3b5ad4ab",
   "metadata": {},
   "outputs": [],
   "source": [
    "cluster_labels = kmeans.predict(X)"
   ]
  },
  {
   "cell_type": "code",
   "execution_count": 9,
   "id": "2026ddaf",
   "metadata": {},
   "outputs": [],
   "source": [
    "df['cluster_label'] = cluster_labels"
   ]
  },
  {
   "cell_type": "code",
   "execution_count": 10,
   "id": "b1c14421",
   "metadata": {},
   "outputs": [
    {
     "name": "stdout",
     "output_type": "stream",
     "text": [
      "            name   Longitude   Latitude  cluster_label\n",
      "0     Mauritania  -10.347798  20.257367              0\n",
      "1     Montserrat  -62.185185  16.739414              1\n",
      "2      Mauritius   57.571206 -20.277687              0\n",
      "3         Malawi   34.289356 -13.218081              0\n",
      "4       Malaysia  109.697623   3.789868              3\n",
      "..           ...         ...        ...            ...\n",
      "87         Samoa -172.164851 -13.753243              2\n",
      "88         Yemen   47.586762  15.909280              0\n",
      "89  South Africa   25.083901 -29.000341              0\n",
      "90        Zambia   27.774759 -13.458242              0\n",
      "91      Zimbabwe   29.851441 -19.004204              0\n",
      "\n",
      "[92 rows x 4 columns]\n"
     ]
    }
   ],
   "source": [
    "print(df)"
   ]
  },
  {
   "cell_type": "code",
   "execution_count": null,
   "id": "46665b0f",
   "metadata": {},
   "outputs": [],
   "source": []
  },
  {
   "cell_type": "code",
   "execution_count": null,
   "id": "bb5a79be",
   "metadata": {},
   "outputs": [],
   "source": []
  }
 ],
 "metadata": {
  "kernelspec": {
   "display_name": "Python 3 (ipykernel)",
   "language": "python",
   "name": "python3"
  },
  "language_info": {
   "codemirror_mode": {
    "name": "ipython",
    "version": 3
   },
   "file_extension": ".py",
   "mimetype": "text/x-python",
   "name": "python",
   "nbconvert_exporter": "python",
   "pygments_lexer": "ipython3",
   "version": "3.9.12"
  }
 },
 "nbformat": 4,
 "nbformat_minor": 5
}
