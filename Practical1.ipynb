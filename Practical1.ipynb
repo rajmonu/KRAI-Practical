{
 "cells": [
  {
   "cell_type": "markdown",
   "id": "a7ead763",
   "metadata": {},
   "source": [
    "Q1.. Write a program to cluster a set of points using K-means. Consider, K=4, clusters. \n",
    "Consider Euclidean distance as the distance measure. Randomly initialize a cluster \n",
    "mean as one of the data points. Iterate for 10 iterations. After iterations are over, print \n",
    "the final cluster means for each of the clusters.\n",
    "Data set iris data set"
   ]
  },
  {
   "cell_type": "code",
   "execution_count": 10,
   "id": "c488a278",
   "metadata": {},
   "outputs": [],
   "source": [
    "import pandas as pd\n",
    "import numpy as np\n",
    "import matplotlib.pyplot as plt\n",
    "import seaborn as sns\n",
    "import random\n",
    "sns.set()\n",
    "from sklearn.cluster import KMeans\n",
    "raw_data = pd.read_csv(\"iris.csv\")"
   ]
  },
  {
   "cell_type": "code",
   "execution_count": 3,
   "id": "18e695db",
   "metadata": {},
   "outputs": [],
   "source": [
    "data=raw_data.copy()\n",
    "\n",
    "features = data[['SepalLengthCm', 'SepalWidthCm']]"
   ]
  },
  {
   "cell_type": "code",
   "execution_count": 4,
   "id": "acba6375",
   "metadata": {},
   "outputs": [],
   "source": [
    "# Define the number of clusters (K)\n",
    "K = 4"
   ]
  },
  {
   "cell_type": "code",
   "execution_count": 5,
   "id": "533db405",
   "metadata": {},
   "outputs": [],
   "source": [
    "# Initialize cluster means randomly from the data points\n",
    "initial_means = random.sample(features.values.tolist(), K)\n",
    "cluster_means = np.array(initial_means)"
   ]
  },
  {
   "cell_type": "code",
   "execution_count": 6,
   "id": "9249bad7",
   "metadata": {},
   "outputs": [],
   "source": [
    "# Number of iterations\n",
    "iterations = 10\n",
    "\n",
    "# Perform K-means clustering\n",
    "for i in range(iterations):\n",
    "    # Create empty clusters\n",
    "    clusters = [[] for _ in range(K)]"
   ]
  },
  {
   "cell_type": "code",
   "execution_count": 7,
   "id": "339b0df6",
   "metadata": {},
   "outputs": [],
   "source": [
    "# Assign data points to the nearest cluster\n",
    "for point in features.values:\n",
    "    distances = [np.linalg.norm(point - mean) for mean in cluster_means]\n",
    "    cluster_index = np.argmin(distances)\n",
    "    clusters[cluster_index].append(point)"
   ]
  },
  {
   "cell_type": "code",
   "execution_count": 8,
   "id": "a18116aa",
   "metadata": {},
   "outputs": [],
   "source": [
    " # Update cluster means\n",
    "new_cluster_means = [np.mean(cluster, axis=0) if cluster else cluster_means[i] for i, cluster in enumerate(clusters)]\n",
    "cluster_means = np.array(new_cluster_means)\n",
    "\n"
   ]
  },
  {
   "cell_type": "code",
   "execution_count": 9,
   "id": "3413d7ca",
   "metadata": {},
   "outputs": [
    {
     "name": "stdout",
     "output_type": "stream",
     "text": [
      "Cluster 1 Mean: [5.05    2.51875]\n",
      "Cluster 2 Mean: [6.45243902 2.92439024]\n",
      "Cluster 3 Mean: [5.21724138 3.25862069]\n",
      "Cluster 4 Mean: [5.01304348 3.63043478]\n"
     ]
    }
   ],
   "source": [
    "# Print the final cluster means\n",
    "for i, mean in enumerate(cluster_means):\n",
    "    print(f\"Cluster {i+1} Mean: {mean}\")"
   ]
  },
  {
   "cell_type": "code",
   "execution_count": null,
   "id": "016fee99",
   "metadata": {},
   "outputs": [],
   "source": []
  },
  {
   "cell_type": "code",
   "execution_count": null,
   "id": "178eaab9",
   "metadata": {},
   "outputs": [],
   "source": []
  },
  {
   "cell_type": "code",
   "execution_count": null,
   "id": "2866b8f2",
   "metadata": {},
   "outputs": [],
   "source": []
  },
  {
   "cell_type": "code",
   "execution_count": null,
   "id": "bd7b85c3",
   "metadata": {},
   "outputs": [],
   "source": []
  },
  {
   "cell_type": "code",
   "execution_count": null,
   "id": "0398db05",
   "metadata": {},
   "outputs": [],
   "source": []
  }
 ],
 "metadata": {
  "kernelspec": {
   "display_name": "Python 3 (ipykernel)",
   "language": "python",
   "name": "python3"
  },
  "language_info": {
   "codemirror_mode": {
    "name": "ipython",
    "version": 3
   },
   "file_extension": ".py",
   "mimetype": "text/x-python",
   "name": "python",
   "nbconvert_exporter": "python",
   "pygments_lexer": "ipython3",
   "version": "3.11.5"
  }
 },
 "nbformat": 4,
 "nbformat_minor": 5
}
