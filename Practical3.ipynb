{
 "cells": [
  {
   "cell_type": "markdown",
   "id": "a5ff0524",
   "metadata": {},
   "source": [
    "3.Write a program for multiple regression for predicting stock_index_price (dependent \n",
    "Variable) using two independent variables (interest_rate and unemployment_rate). \n",
    "Refer Stock_data file \n",
    "Predict Stock index price for interest rate = 3 and unemployment rate is 5.7"
   ]
  },
  {
   "cell_type": "code",
   "execution_count": 1,
   "id": "9099eb54",
   "metadata": {},
   "outputs": [],
   "source": [
    "import pandas as pd\n",
    "from sklearn.linear_model import LinearRegression"
   ]
  },
  {
   "cell_type": "code",
   "execution_count": 6,
   "id": "50637488",
   "metadata": {},
   "outputs": [],
   "source": [
    "# Load the stock data from a CSV file\n",
    "data = pd.read_excel(\"Stock_data.xlsx\")"
   ]
  },
  {
   "cell_type": "code",
   "execution_count": 7,
   "id": "e92ebcd7",
   "metadata": {},
   "outputs": [
    {
     "data": {
      "text/plain": [
       "Index(['Interest Rate', 'Unemployement_rate', 'Stock_index_price'], dtype='object')"
      ]
     },
     "execution_count": 7,
     "metadata": {},
     "output_type": "execute_result"
    }
   ],
   "source": [
    "X = data[['Interest Rate', 'Unemployement_rate']]\n",
    "data.columns"
   ]
  },
  {
   "cell_type": "code",
   "execution_count": 8,
   "id": "67bd6b59",
   "metadata": {},
   "outputs": [],
   "source": [
    "y = data['Stock_index_price']"
   ]
  },
  {
   "cell_type": "code",
   "execution_count": 9,
   "id": "0957d2d1",
   "metadata": {},
   "outputs": [
    {
     "name": "stdout",
     "output_type": "stream",
     "text": [
      "Predicted Stock Index Price for Interest Rate=3 and Unemployment Rate=5.7: 1409.15\n"
     ]
    },
    {
     "name": "stderr",
     "output_type": "stream",
     "text": [
      "C:\\Users\\LENOVO\\Anaconda3\\lib\\site-packages\\sklearn\\base.py:450: UserWarning: X does not have valid feature names, but LinearRegression was fitted with feature names\n",
      "  warnings.warn(\n"
     ]
    }
   ],
   "source": [
    "model = LinearRegression()\n",
    "\n",
    "# Fit the model to the data\n",
    "model.fit(X, y)\n",
    "\n",
    "# Predict the stock index price for given interest rate and unemployment rate\n",
    "interest_rate = 3\n",
    "unemployment_rate = 5.7\n",
    "predicted_stock_price = model.predict([[interest_rate, unemployment_rate]])\n",
    "\n",
    "print(f\"Predicted Stock Index Price for Interest Rate={interest_rate} and Unemployment Rate={unemployment_rate}: {predicted_stock_price[0]:.2f}\")"
   ]
  },
  {
   "cell_type": "code",
   "execution_count": null,
   "id": "45013160",
   "metadata": {},
   "outputs": [],
   "source": []
  },
  {
   "cell_type": "code",
   "execution_count": null,
   "id": "9e687436",
   "metadata": {},
   "outputs": [],
   "source": []
  },
  {
   "cell_type": "code",
   "execution_count": null,
   "id": "cb39fb6f",
   "metadata": {},
   "outputs": [],
   "source": []
  }
 ],
 "metadata": {
  "kernelspec": {
   "display_name": "Python 3 (ipykernel)",
   "language": "python",
   "name": "python3"
  },
  "language_info": {
   "codemirror_mode": {
    "name": "ipython",
    "version": 3
   },
   "file_extension": ".py",
   "mimetype": "text/x-python",
   "name": "python",
   "nbconvert_exporter": "python",
   "pygments_lexer": "ipython3",
   "version": "3.9.12"
  }
 },
 "nbformat": 4,
 "nbformat_minor": 5
}
