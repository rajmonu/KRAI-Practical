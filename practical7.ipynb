{
 "cells": [
  {
   "cell_type": "markdown",
   "id": "ea46f196",
   "metadata": {},
   "source": [
    "7. Write a program for K means clustering model based on countries Longitude and \n",
    "Latitude data set 1"
   ]
  },
  {
   "cell_type": "code",
   "execution_count": 1,
   "id": "f522ea8c",
   "metadata": {},
   "outputs": [],
   "source": [
    "import pandas as pd\n",
    "from sklearn.cluster import KMeans"
   ]
  },
  {
   "cell_type": "code",
   "execution_count": 2,
   "id": "422ff06b",
   "metadata": {},
   "outputs": [],
   "source": [
    "df = pd.read_excel('Countries_dataset1.xlsx')"
   ]
  },
  {
   "cell_type": "code",
   "execution_count": 3,
   "id": "1cc43878",
   "metadata": {},
   "outputs": [],
   "source": [
    "X = df[['Longitude', 'Latitude']]"
   ]
  },
  {
   "cell_type": "code",
   "execution_count": 4,
   "id": "746d22d4",
   "metadata": {},
   "outputs": [],
   "source": [
    "kmeans = KMeans(n_clusters=3)"
   ]
  },
  {
   "cell_type": "code",
   "execution_count": 5,
   "id": "d0ca221f",
   "metadata": {},
   "outputs": [
    {
     "data": {
      "text/plain": [
       "KMeans(n_clusters=3)"
      ]
     },
     "execution_count": 5,
     "metadata": {},
     "output_type": "execute_result"
    }
   ],
   "source": [
    "kmeans.fit(X)"
   ]
  },
  {
   "cell_type": "code",
   "execution_count": 6,
   "id": "703d7722",
   "metadata": {},
   "outputs": [],
   "source": [
    "cluster_labels = kmeans.predict(X)"
   ]
  },
  {
   "cell_type": "code",
   "execution_count": 7,
   "id": "b5f6b4a8",
   "metadata": {},
   "outputs": [],
   "source": [
    "df['cluster_label'] = cluster_labels"
   ]
  },
  {
   "cell_type": "code",
   "execution_count": 8,
   "id": "04afcc00",
   "metadata": {},
   "outputs": [
    {
     "name": "stdout",
     "output_type": "stream",
     "text": [
      "               name   Longitude   Latitude  cluster_label\n",
      "0             Aruba  -69.982677  12.520880              1\n",
      "1       Afghanistan   66.004734  33.835231              0\n",
      "2            Angola   17.537368 -12.293361              0\n",
      "3          Anguilla  -63.064989  18.223959              1\n",
      "4           Albania   20.049834  41.142450              0\n",
      "..              ...         ...        ...            ...\n",
      "144         Myanmar   96.488433  21.185666              2\n",
      "145      Montenegro   19.238839  42.788903              0\n",
      "146        Mongolia  103.052998  46.826815              2\n",
      "147  N. Mariana Is.  145.619697  15.829276              2\n",
      "148      Mozambique   35.533675 -17.273816              0\n",
      "\n",
      "[149 rows x 4 columns]\n"
     ]
    }
   ],
   "source": [
    "print(df)"
   ]
  }
 ],
 "metadata": {
  "kernelspec": {
   "display_name": "Python 3 (ipykernel)",
   "language": "python",
   "name": "python3"
  },
  "language_info": {
   "codemirror_mode": {
    "name": "ipython",
    "version": 3
   },
   "file_extension": ".py",
   "mimetype": "text/x-python",
   "name": "python",
   "nbconvert_exporter": "python",
   "pygments_lexer": "ipython3",
   "version": "3.9.12"
  }
 },
 "nbformat": 4,
 "nbformat_minor": 5
}
