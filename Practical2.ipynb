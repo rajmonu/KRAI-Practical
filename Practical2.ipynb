{
 "cells": [
  {
   "cell_type": "markdown",
   "id": "c1d125b8",
   "metadata": {},
   "source": [
    "2.The table below gives the amount of Crabby Cakes made by Bakers for each year he’s \n",
    "worked. \n",
    "\n",
    "Graph the data on a scatter plot, find the line of best fit, and write the equation for the \n",
    "line you draw.\n",
    "\n",
    "Years worked 1 2 3 4 5 6\n",
    "Cakes made 6,500 7,805 10,835 11,230 15,870 16,387\n",
    "\n",
    "Correlation Coefficient (r): _________\n",
    "Type of Correlation: ______________________\n",
    "Using the linear regression equation predict how many Crabby cakes he will make \n",
    "after working 10 years. "
   ]
  },
  {
   "cell_type": "code",
   "execution_count": 1,
   "id": "440c7edb",
   "metadata": {},
   "outputs": [],
   "source": [
    "import numpy as np\n",
    "import matplotlib.pyplot as plt\n",
    "from scipy.stats import linregress"
   ]
  },
  {
   "cell_type": "code",
   "execution_count": 2,
   "id": "953f010e",
   "metadata": {},
   "outputs": [
    {
     "data": {
      "text/plain": [
       "<matplotlib.collections.PathCollection at 0x1edd0536550>"
      ]
     },
     "execution_count": 2,
     "metadata": {},
     "output_type": "execute_result"
    },
    {
     "data": {
      "image/png": "[encoded data removed]",
      "text/plain": [
       "<Figure size 432x288 with 1 Axes>"
      ]
     },
     "metadata": {
      "needs_background": "light"
     },
     "output_type": "display_data"
    }
   ],
   "source": [
    "years_worked = np.array([1, 2, 3, 4, 5, 6])\n",
    "cakes_made = np.array([6500, 7805, 10835, 11230, 15870, 16387])\n",
    "\n",
    "# Scatter plot\n",
    "plt.scatter(years_worked, cakes_made, label='Data', color='blue')"
   ]
  },
  {
   "cell_type": "code",
   "execution_count": 3,
   "id": "2a088bbb",
   "metadata": {},
   "outputs": [
    {
     "data": {
      "image/png": "[encoded data removed]",
      "text/plain": [
       "<Figure size 432x288 with 1 Axes>"
      ]
     },
     "metadata": {
      "needs_background": "light"
     },
     "output_type": "display_data"
    }
   ],
   "source": [
    "# Perform linear regression\n",
    "slope, intercept, r_value, p_value, std_err = linregress(years_worked, cakes_made)\n",
    "line = slope * years_worked + intercept\n",
    "plt.xlabel('Years Worked')\n",
    "plt.ylabel('slope * years_worked + intercept')\n",
    "# Plot the line of best fit\n",
    "plt.plot(years_worked, line, label=f'Line of Best Fit (y = {slope:.2f}x + {intercept:.2f})', color='red')\n",
    "\n",
    "# Calculate the correlation coefficient\n",
    "correlation_coefficient = r_value"
   ]
  },
  {
   "cell_type": "code",
   "execution_count": 4,
   "id": "9c71a8a3",
   "metadata": {},
   "outputs": [
    {
     "name": "stdout",
     "output_type": "stream",
     "text": [
      "Correlation Coefficient (r): 0.98\n",
      "Type of Correlation: Positive Correlation\n",
      "Predicted Cakes after 10 years: 25185.33\n"
     ]
    }
   ],
   "source": [
    "if correlation_coefficient > 0:\n",
    "    correlation_type = \"Positive Correlation\"\n",
    "elif correlation_coefficient < 0:\n",
    "    correlation_type = \"Negative Correlation\"\n",
    "else:\n",
    "    correlation_type = \"No Correlation\"\n",
    "\n",
    "# Print the correlation coefficient and type\n",
    "print(f\"Correlation Coefficient (r): {correlation_coefficient:.2f}\")\n",
    "print(f\"Type of Correlation: {correlation_type}\")\n",
    "\n",
    "# Predict the number of cakes after 10 years\n",
    "years_to_predict = 10\n",
    "predicted_cakes = slope * years_to_predict + intercept\n",
    "print(f\"Predicted Cakes after {years_to_predict} years: {predicted_cakes:.2f}\")\n"
   ]
  },
  {
   "cell_type": "code",
   "execution_count": null,
   "id": "572d21cc",
   "metadata": {},
   "outputs": [],
   "source": []
  },
  {
   "cell_type": "code",
   "execution_count": null,
   "id": "1f50677b",
   "metadata": {},
   "outputs": [],
   "source": []
  },
  {
   "cell_type": "code",
   "execution_count": null,
   "id": "a0e96781",
   "metadata": {},
   "outputs": [],
   "source": []
  },
  {
   "cell_type": "code",
   "execution_count": null,
   "id": "aa88e7d0",
   "metadata": {},
   "outputs": [],
   "source": []
  },
  {
   "cell_type": "code",
   "execution_count": null,
   "id": "5b10bf56",
   "metadata": {},
   "outputs": [],
   "source": []
  },
  {
   "cell_type": "code",
   "execution_count": null,
   "id": "33853de1",
   "metadata": {},
   "outputs": [],
   "source": []
  }
 ],
 "metadata": {
  "kernelspec": {
   "display_name": "Python 3 (ipykernel)",
   "language": "python",
   "name": "python3"
  },
  "language_info": {
   "codemirror_mode": {
    "name": "ipython",
    "version": 3
   },
   "file_extension": ".py",
   "mimetype": "text/x-python",
   "name": "python",
   "nbconvert_exporter": "python",
   "pygments_lexer": "ipython3",
   "version": "3.9.12"
  }
 },
 "nbformat": 4,
 "nbformat_minor": 5
}
